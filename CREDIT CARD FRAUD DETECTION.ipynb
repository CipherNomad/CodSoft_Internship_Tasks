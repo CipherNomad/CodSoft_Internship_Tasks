{
  "cells": [
    {
      "cell_type": "code",
      "execution_count": null,
      "id": "856edf2b",
      "metadata": {
        "id": "856edf2b"
      },
      "outputs": [],
      "source": [
        "import numpy as np\n",
        "import pandas as pd\n",
        "import matplotlib.pyplot as plt\n",
        "import seaborn as sns"
      ]
    },
    {
      "cell_type": "code",
      "execution_count": null,
      "id": "62a15390",
      "metadata": {
        "id": "62a15390"
      },
      "outputs": [],
      "source": [
        "df = pd.read_csv(\"/content/creditcard.csv\")"
      ]
    },
    {
      "cell_type": "code",
      "execution_count": null,
      "id": "2c208398",
      "metadata": {
        "id": "2c208398",
        "outputId": "c32ad97c-f8a7-4911-e177-344785d83681",
        "colab": {
          "base_uri": "https://localhost:8080/"
        }
      },
      "outputs": [
        {
          "output_type": "execute_result",
          "data": {
            "text/plain": [
              "(7973, 31)"
            ]
          },
          "metadata": {},
          "execution_count": 3
        }
      ],
      "source": [
        "df.shape"
      ]
    },
    {
      "cell_type": "code",
      "execution_count": null,
      "id": "490271ec",
      "metadata": {
        "id": "490271ec",
        "outputId": "1538b78c-e485-4277-f2d2-575894e92607",
        "colab": {
          "base_uri": "https://localhost:8080/",
          "height": 412
        }
      },
      "outputs": [
        {
          "output_type": "execute_result",
          "data": {
            "text/plain": [
              "       Time        V1        V2        V3        V4        V5        V6  \\\n",
              "7963  10979  1.249706 -0.079696  0.824921  0.322643 -0.900948 -0.827550   \n",
              "7964  10979 -2.334560  1.861316  0.164384 -0.816969 -1.402592 -0.549793   \n",
              "7965  10979  1.360989 -0.261996  0.541808 -0.226020 -1.184130 -1.287877   \n",
              "7966  10979  1.227077 -0.064970  0.750337  0.131700 -0.617948 -0.319905   \n",
              "7967  10980 -0.046786  0.030050  2.037794 -0.670130 -0.727283 -0.588537   \n",
              "7968  10980  1.284388 -0.013181  0.646174  0.198985 -0.568675 -0.526121   \n",
              "7969  10981  1.190428 -0.122329  0.954945  0.267101 -0.971026 -0.652279   \n",
              "7970  10981 -0.725175  0.298202  1.824761 -2.587170  0.283605 -0.016617   \n",
              "7971  10981  1.226153 -0.129645  0.735197  0.142752 -0.703245 -0.349641   \n",
              "7972  10981  1.145381 -0.059349  0.968088  0.267891 -0.822582 -0.597727   \n",
              "\n",
              "            V7        V8        V9  ...       V21       V22       V23  \\\n",
              "7963 -0.512295 -0.136281  1.906148  ... -0.082834 -0.031431 -0.008790   \n",
              "7964 -1.206648  1.690017  0.688121  ...  0.239931  0.277885 -0.000503   \n",
              "7965 -0.744504 -0.233571  0.673276  ... -0.080677 -0.116942  0.059339   \n",
              "7966 -0.552983 -0.028506  1.513247  ... -0.037820  0.112270 -0.067607   \n",
              "7967 -0.067966 -0.370767  0.228931  ...  0.264364  1.078896 -0.097768   \n",
              "7968 -0.448235 -0.167709  1.773223  ... -0.101868 -0.030298 -0.081412   \n",
              "7969 -0.612992 -0.003909  1.633117  ... -0.015001  0.127027  0.012079   \n",
              "7970  0.153659  0.045084 -0.197611  ... -0.017097 -0.070535 -0.442861   \n",
              "7971 -0.612641  0.020507  1.648986  ... -0.047936  0.040196 -0.057391   \n",
              "7972 -0.450197 -0.119747  1.338188  ...       NaN       NaN       NaN   \n",
              "\n",
              "           V24       V25       V26       V27       V28  Amount  Class  \n",
              "7963  0.328556  0.177531  1.037839 -0.096713  0.003006   15.95    0.0  \n",
              "7964  0.008197 -0.360606  0.822897 -0.646044 -0.102000   14.95    0.0  \n",
              "7965  0.552663  0.265519 -0.338759 -0.005598  0.038366   15.95    0.0  \n",
              "7966  0.024850  0.218476  1.034218 -0.094322 -0.007826   15.95    0.0  \n",
              "7967  0.375679 -0.500253 -0.159051 -0.018267 -0.061794   39.00    0.0  \n",
              "7968 -0.123281  0.278808  1.064001 -0.090181  0.000481   15.95    0.0  \n",
              "7969  0.534409  0.112179  1.004483 -0.100188 -0.004774   14.95    0.0  \n",
              "7970 -0.895837  0.624743 -0.510601 -0.031142  0.025564   12.95    0.0  \n",
              "7971 -0.012386  0.187685  1.037786 -0.100081 -0.009869   15.95    0.0  \n",
              "7972       NaN       NaN       NaN       NaN       NaN     NaN    NaN  \n",
              "\n",
              "[10 rows x 31 columns]"
            ],
            "text/html": [
              "\n",
              "  <div id=\"df-af16dabf-38cc-4508-9eba-dbd33131246b\" class=\"colab-df-container\">\n",
              "    <div>\n",
              "<style scoped>\n",
              "    .dataframe tbody tr th:only-of-type {\n",
              "        vertical-align: middle;\n",
              "    }\n",
              "\n",
              "    .dataframe tbody tr th {\n",
              "        vertical-align: top;\n",
              "    }\n",
              "\n",
              "    .dataframe thead th {\n",
              "        text-align: right;\n",
              "    }\n",
              "</style>\n",
              "<table border=\"1\" class=\"dataframe\">\n",
              "  <thead>\n",
              "    <tr style=\"text-align: right;\">\n",
              "      <th></th>\n",
              "      <th>Time</th>\n",
              "      <th>V1</th>\n",
              "      <th>V2</th>\n",
              "      <th>V3</th>\n",
              "      <th>V4</th>\n",
              "      <th>V5</th>\n",
              "      <th>V6</th>\n",
              "      <th>V7</th>\n",
              "      <th>V8</th>\n",
              "      <th>V9</th>\n",
              "      <th>...</th>\n",
              "      <th>V21</th>\n",
              "      <th>V22</th>\n",
              "      <th>V23</th>\n",
              "      <th>V24</th>\n",
              "      <th>V25</th>\n",
              "      <th>V26</th>\n",
              "      <th>V27</th>\n",
              "      <th>V28</th>\n",
              "      <th>Amount</th>\n",
              "      <th>Class</th>\n",
              "    </tr>\n",
              "  </thead>\n",
              "  <tbody>\n",
              "    <tr>\n",
              "      <th>7963</th>\n",
              "      <td>10979</td>\n",
              "      <td>1.249706</td>\n",
              "      <td>-0.079696</td>\n",
              "      <td>0.824921</td>\n",
              "      <td>0.322643</td>\n",
              "      <td>-0.900948</td>\n",
              "      <td>-0.827550</td>\n",
              "      <td>-0.512295</td>\n",
              "      <td>-0.136281</td>\n",
              "      <td>1.906148</td>\n",
              "      <td>...</td>\n",
              "      <td>-0.082834</td>\n",
              "      <td>-0.031431</td>\n",
              "      <td>-0.008790</td>\n",
              "      <td>0.328556</td>\n",
              "      <td>0.177531</td>\n",
              "      <td>1.037839</td>\n",
              "      <td>-0.096713</td>\n",
              "      <td>0.003006</td>\n",
              "      <td>15.95</td>\n",
              "      <td>0.0</td>\n",
              "    </tr>\n",
              "    <tr>\n",
              "      <th>7964</th>\n",
              "      <td>10979</td>\n",
              "      <td>-2.334560</td>\n",
              "      <td>1.861316</td>\n",
              "      <td>0.164384</td>\n",
              "      <td>-0.816969</td>\n",
              "      <td>-1.402592</td>\n",
              "      <td>-0.549793</td>\n",
              "      <td>-1.206648</td>\n",
              "      <td>1.690017</td>\n",
              "      <td>0.688121</td>\n",
              "      <td>...</td>\n",
              "      <td>0.239931</td>\n",
              "      <td>0.277885</td>\n",
              "      <td>-0.000503</td>\n",
              "      <td>0.008197</td>\n",
              "      <td>-0.360606</td>\n",
              "      <td>0.822897</td>\n",
              "      <td>-0.646044</td>\n",
              "      <td>-0.102000</td>\n",
              "      <td>14.95</td>\n",
              "      <td>0.0</td>\n",
              "    </tr>\n",
              "    <tr>\n",
              "      <th>7965</th>\n",
              "      <td>10979</td>\n",
              "      <td>1.360989</td>\n",
              "      <td>-0.261996</td>\n",
              "      <td>0.541808</td>\n",
              "      <td>-0.226020</td>\n",
              "      <td>-1.184130</td>\n",
              "      <td>-1.287877</td>\n",
              "      <td>-0.744504</td>\n",
              "      <td>-0.233571</td>\n",
              "      <td>0.673276</td>\n",
              "      <td>...</td>\n",
              "      <td>-0.080677</td>\n",
              "      <td>-0.116942</td>\n",
              "      <td>0.059339</td>\n",
              "      <td>0.552663</td>\n",
              "      <td>0.265519</td>\n",
              "      <td>-0.338759</td>\n",
              "      <td>-0.005598</td>\n",
              "      <td>0.038366</td>\n",
              "      <td>15.95</td>\n",
              "      <td>0.0</td>\n",
              "    </tr>\n",
              "    <tr>\n",
              "      <th>7966</th>\n",
              "      <td>10979</td>\n",
              "      <td>1.227077</td>\n",
              "      <td>-0.064970</td>\n",
              "      <td>0.750337</td>\n",
              "      <td>0.131700</td>\n",
              "      <td>-0.617948</td>\n",
              "      <td>-0.319905</td>\n",
              "      <td>-0.552983</td>\n",
              "      <td>-0.028506</td>\n",
              "      <td>1.513247</td>\n",
              "      <td>...</td>\n",
              "      <td>-0.037820</td>\n",
              "      <td>0.112270</td>\n",
              "      <td>-0.067607</td>\n",
              "      <td>0.024850</td>\n",
              "      <td>0.218476</td>\n",
              "      <td>1.034218</td>\n",
              "      <td>-0.094322</td>\n",
              "      <td>-0.007826</td>\n",
              "      <td>15.95</td>\n",
              "      <td>0.0</td>\n",
              "    </tr>\n",
              "    <tr>\n",
              "      <th>7967</th>\n",
              "      <td>10980</td>\n",
              "      <td>-0.046786</td>\n",
              "      <td>0.030050</td>\n",
              "      <td>2.037794</td>\n",
              "      <td>-0.670130</td>\n",
              "      <td>-0.727283</td>\n",
              "      <td>-0.588537</td>\n",
              "      <td>-0.067966</td>\n",
              "      <td>-0.370767</td>\n",
              "      <td>0.228931</td>\n",
              "      <td>...</td>\n",
              "      <td>0.264364</td>\n",
              "      <td>1.078896</td>\n",
              "      <td>-0.097768</td>\n",
              "      <td>0.375679</td>\n",
              "      <td>-0.500253</td>\n",
              "      <td>-0.159051</td>\n",
              "      <td>-0.018267</td>\n",
              "      <td>-0.061794</td>\n",
              "      <td>39.00</td>\n",
              "      <td>0.0</td>\n",
              "    </tr>\n",
              "    <tr>\n",
              "      <th>7968</th>\n",
              "      <td>10980</td>\n",
              "      <td>1.284388</td>\n",
              "      <td>-0.013181</td>\n",
              "      <td>0.646174</td>\n",
              "      <td>0.198985</td>\n",
              "      <td>-0.568675</td>\n",
              "      <td>-0.526121</td>\n",
              "      <td>-0.448235</td>\n",
              "      <td>-0.167709</td>\n",
              "      <td>1.773223</td>\n",
              "      <td>...</td>\n",
              "      <td>-0.101868</td>\n",
              "      <td>-0.030298</td>\n",
              "      <td>-0.081412</td>\n",
              "      <td>-0.123281</td>\n",
              "      <td>0.278808</td>\n",
              "      <td>1.064001</td>\n",
              "      <td>-0.090181</td>\n",
              "      <td>0.000481</td>\n",
              "      <td>15.95</td>\n",
              "      <td>0.0</td>\n",
              "    </tr>\n",
              "    <tr>\n",
              "      <th>7969</th>\n",
              "      <td>10981</td>\n",
              "      <td>1.190428</td>\n",
              "      <td>-0.122329</td>\n",
              "      <td>0.954945</td>\n",
              "      <td>0.267101</td>\n",
              "      <td>-0.971026</td>\n",
              "      <td>-0.652279</td>\n",
              "      <td>-0.612992</td>\n",
              "      <td>-0.003909</td>\n",
              "      <td>1.633117</td>\n",
              "      <td>...</td>\n",
              "      <td>-0.015001</td>\n",
              "      <td>0.127027</td>\n",
              "      <td>0.012079</td>\n",
              "      <td>0.534409</td>\n",
              "      <td>0.112179</td>\n",
              "      <td>1.004483</td>\n",
              "      <td>-0.100188</td>\n",
              "      <td>-0.004774</td>\n",
              "      <td>14.95</td>\n",
              "      <td>0.0</td>\n",
              "    </tr>\n",
              "    <tr>\n",
              "      <th>7970</th>\n",
              "      <td>10981</td>\n",
              "      <td>-0.725175</td>\n",
              "      <td>0.298202</td>\n",
              "      <td>1.824761</td>\n",
              "      <td>-2.587170</td>\n",
              "      <td>0.283605</td>\n",
              "      <td>-0.016617</td>\n",
              "      <td>0.153659</td>\n",
              "      <td>0.045084</td>\n",
              "      <td>-0.197611</td>\n",
              "      <td>...</td>\n",
              "      <td>-0.017097</td>\n",
              "      <td>-0.070535</td>\n",
              "      <td>-0.442861</td>\n",
              "      <td>-0.895837</td>\n",
              "      <td>0.624743</td>\n",
              "      <td>-0.510601</td>\n",
              "      <td>-0.031142</td>\n",
              "      <td>0.025564</td>\n",
              "      <td>12.95</td>\n",
              "      <td>0.0</td>\n",
              "    </tr>\n",
              "    <tr>\n",
              "      <th>7971</th>\n",
              "      <td>10981</td>\n",
              "      <td>1.226153</td>\n",
              "      <td>-0.129645</td>\n",
              "      <td>0.735197</td>\n",
              "      <td>0.142752</td>\n",
              "      <td>-0.703245</td>\n",
              "      <td>-0.349641</td>\n",
              "      <td>-0.612641</td>\n",
              "      <td>0.020507</td>\n",
              "      <td>1.648986</td>\n",
              "      <td>...</td>\n",
              "      <td>-0.047936</td>\n",
              "      <td>0.040196</td>\n",
              "      <td>-0.057391</td>\n",
              "      <td>-0.012386</td>\n",
              "      <td>0.187685</td>\n",
              "      <td>1.037786</td>\n",
              "      <td>-0.100081</td>\n",
              "      <td>-0.009869</td>\n",
              "      <td>15.95</td>\n",
              "      <td>0.0</td>\n",
              "    </tr>\n",
              "    <tr>\n",
              "      <th>7972</th>\n",
              "      <td>10981</td>\n",
              "      <td>1.145381</td>\n",
              "      <td>-0.059349</td>\n",
              "      <td>0.968088</td>\n",
              "      <td>0.267891</td>\n",
              "      <td>-0.822582</td>\n",
              "      <td>-0.597727</td>\n",
              "      <td>-0.450197</td>\n",
              "      <td>-0.119747</td>\n",
              "      <td>1.338188</td>\n",
              "      <td>...</td>\n",
              "      <td>NaN</td>\n",
              "      <td>NaN</td>\n",
              "      <td>NaN</td>\n",
              "      <td>NaN</td>\n",
              "      <td>NaN</td>\n",
              "      <td>NaN</td>\n",
              "      <td>NaN</td>\n",
              "      <td>NaN</td>\n",
              "      <td>NaN</td>\n",
              "      <td>NaN</td>\n",
              "    </tr>\n",
              "  </tbody>\n",
              "</table>\n",
              "<p>10 rows × 31 columns</p>\n",
              "</div>\n",
              "    <div class=\"colab-df-buttons\">\n",
              "\n",
              "  <div class=\"colab-df-container\">\n",
              "    <button class=\"colab-df-convert\" onclick=\"convertToInteractive('df-af16dabf-38cc-4508-9eba-dbd33131246b')\"\n",
              "            title=\"Convert this dataframe to an interactive table.\"\n",
              "            style=\"display:none;\">\n",
              "\n",
              "  <svg xmlns=\"http://www.w3.org/2000/svg\" height=\"24px\" viewBox=\"0 -960 960 960\">\n",
              "    <path d=\"M120-120v-720h720v720H120Zm60-500h600v-160H180v160Zm220 220h160v-160H400v160Zm0 220h160v-160H400v160ZM180-400h160v-160H180v160Zm440 0h160v-160H620v160ZM180-180h160v-160H180v160Zm440 0h160v-160H620v160Z\"/>\n",
              "  </svg>\n",
              "    </button>\n",
              "\n",
              "  <style>\n",
              "    .colab-df-container {\n",
              "      display:flex;\n",
              "      gap: 12px;\n",
              "    }\n",
              "\n",
              "    .colab-df-convert {\n",
              "      background-color: #E8F0FE;\n",
              "      border: none;\n",
              "      border-radius: 50%;\n",
              "      cursor: pointer;\n",
              "      display: none;\n",
              "      fill: #1967D2;\n",
              "      height: 32px;\n",
              "      padding: 0 0 0 0;\n",
              "      width: 32px;\n",
              "    }\n",
              "\n",
              "    .colab-df-convert:hover {\n",
              "      background-color: #E2EBFA;\n",
              "      box-shadow: 0px 1px 2px rgba(60, 64, 67, 0.3), 0px 1px 3px 1px rgba(60, 64, 67, 0.15);\n",
              "      fill: #174EA6;\n",
              "    }\n",
              "\n",
              "    .colab-df-buttons div {\n",
              "      margin-bottom: 4px;\n",
              "    }\n",
              "\n",
              "    [theme=dark] .colab-df-convert {\n",
              "      background-color: #3B4455;\n",
              "      fill: #D2E3FC;\n",
              "    }\n",
              "\n",
              "    [theme=dark] .colab-df-convert:hover {\n",
              "      background-color: #434B5C;\n",
              "      box-shadow: 0px 1px 3px 1px rgba(0, 0, 0, 0.15);\n",
              "      filter: drop-shadow(0px 1px 2px rgba(0, 0, 0, 0.3));\n",
              "      fill: #FFFFFF;\n",
              "    }\n",
              "  </style>\n",
              "\n",
              "    <script>\n",
              "      const buttonEl =\n",
              "        document.querySelector('#df-af16dabf-38cc-4508-9eba-dbd33131246b button.colab-df-convert');\n",
              "      buttonEl.style.display =\n",
              "        google.colab.kernel.accessAllowed ? 'block' : 'none';\n",
              "\n",
              "      async function convertToInteractive(key) {\n",
              "        const element = document.querySelector('#df-af16dabf-38cc-4508-9eba-dbd33131246b');\n",
              "        const dataTable =\n",
              "          await google.colab.kernel.invokeFunction('convertToInteractive',\n",
              "                                                    [key], {});\n",
              "        if (!dataTable) return;\n",
              "\n",
              "        const docLinkHtml = 'Like what you see? Visit the ' +\n",
              "          '<a target=\"_blank\" href=https://colab.research.google.com/notebooks/data_table.ipynb>data table notebook</a>'\n",
              "          + ' to learn more about interactive tables.';\n",
              "        element.innerHTML = '';\n",
              "        dataTable['output_type'] = 'display_data';\n",
              "        await google.colab.output.renderOutput(dataTable, element);\n",
              "        const docLink = document.createElement('div');\n",
              "        docLink.innerHTML = docLinkHtml;\n",
              "        element.appendChild(docLink);\n",
              "      }\n",
              "    </script>\n",
              "  </div>\n",
              "\n",
              "\n",
              "<div id=\"df-76044b16-c51d-48b8-8ae1-0926819a8336\">\n",
              "  <button class=\"colab-df-quickchart\" onclick=\"quickchart('df-76044b16-c51d-48b8-8ae1-0926819a8336')\"\n",
              "            title=\"Suggest charts\"\n",
              "            style=\"display:none;\">\n",
              "\n",
              "<svg xmlns=\"http://www.w3.org/2000/svg\" height=\"24px\"viewBox=\"0 0 24 24\"\n",
              "     width=\"24px\">\n",
              "    <g>\n",
              "        <path d=\"M19 3H5c-1.1 0-2 .9-2 2v14c0 1.1.9 2 2 2h14c1.1 0 2-.9 2-2V5c0-1.1-.9-2-2-2zM9 17H7v-7h2v7zm4 0h-2V7h2v10zm4 0h-2v-4h2v4z\"/>\n",
              "    </g>\n",
              "</svg>\n",
              "  </button>\n",
              "\n",
              "<style>\n",
              "  .colab-df-quickchart {\n",
              "      --bg-color: #E8F0FE;\n",
              "      --fill-color: #1967D2;\n",
              "      --hover-bg-color: #E2EBFA;\n",
              "      --hover-fill-color: #174EA6;\n",
              "      --disabled-fill-color: #AAA;\n",
              "      --disabled-bg-color: #DDD;\n",
              "  }\n",
              "\n",
              "  [theme=dark] .colab-df-quickchart {\n",
              "      --bg-color: #3B4455;\n",
              "      --fill-color: #D2E3FC;\n",
              "      --hover-bg-color: #434B5C;\n",
              "      --hover-fill-color: #FFFFFF;\n",
              "      --disabled-bg-color: #3B4455;\n",
              "      --disabled-fill-color: #666;\n",
              "  }\n",
              "\n",
              "  .colab-df-quickchart {\n",
              "    background-color: var(--bg-color);\n",
              "    border: none;\n",
              "    border-radius: 50%;\n",
              "    cursor: pointer;\n",
              "    display: none;\n",
              "    fill: var(--fill-color);\n",
              "    height: 32px;\n",
              "    padding: 0;\n",
              "    width: 32px;\n",
              "  }\n",
              "\n",
              "  .colab-df-quickchart:hover {\n",
              "    background-color: var(--hover-bg-color);\n",
              "    box-shadow: 0 1px 2px rgba(60, 64, 67, 0.3), 0 1px 3px 1px rgba(60, 64, 67, 0.15);\n",
              "    fill: var(--button-hover-fill-color);\n",
              "  }\n",
              "\n",
              "  .colab-df-quickchart-complete:disabled,\n",
              "  .colab-df-quickchart-complete:disabled:hover {\n",
              "    background-color: var(--disabled-bg-color);\n",
              "    fill: var(--disabled-fill-color);\n",
              "    box-shadow: none;\n",
              "  }\n",
              "\n",
              "  .colab-df-spinner {\n",
              "    border: 2px solid var(--fill-color);\n",
              "    border-color: transparent;\n",
              "    border-bottom-color: var(--fill-color);\n",
              "    animation:\n",
              "      spin 1s steps(1) infinite;\n",
              "  }\n",
              "\n",
              "  @keyframes spin {\n",
              "    0% {\n",
              "      border-color: transparent;\n",
              "      border-bottom-color: var(--fill-color);\n",
              "      border-left-color: var(--fill-color);\n",
              "    }\n",
              "    20% {\n",
              "      border-color: transparent;\n",
              "      border-left-color: var(--fill-color);\n",
              "      border-top-color: var(--fill-color);\n",
              "    }\n",
              "    30% {\n",
              "      border-color: transparent;\n",
              "      border-left-color: var(--fill-color);\n",
              "      border-top-color: var(--fill-color);\n",
              "      border-right-color: var(--fill-color);\n",
              "    }\n",
              "    40% {\n",
              "      border-color: transparent;\n",
              "      border-right-color: var(--fill-color);\n",
              "      border-top-color: var(--fill-color);\n",
              "    }\n",
              "    60% {\n",
              "      border-color: transparent;\n",
              "      border-right-color: var(--fill-color);\n",
              "    }\n",
              "    80% {\n",
              "      border-color: transparent;\n",
              "      border-right-color: var(--fill-color);\n",
              "      border-bottom-color: var(--fill-color);\n",
              "    }\n",
              "    90% {\n",
              "      border-color: transparent;\n",
              "      border-bottom-color: var(--fill-color);\n",
              "    }\n",
              "  }\n",
              "</style>\n",
              "\n",
              "  <script>\n",
              "    async function quickchart(key) {\n",
              "      const quickchartButtonEl =\n",
              "        document.querySelector('#' + key + ' button');\n",
              "      quickchartButtonEl.disabled = true;  // To prevent multiple clicks.\n",
              "      quickchartButtonEl.classList.add('colab-df-spinner');\n",
              "      try {\n",
              "        const charts = await google.colab.kernel.invokeFunction(\n",
              "            'suggestCharts', [key], {});\n",
              "      } catch (error) {\n",
              "        console.error('Error during call to suggestCharts:', error);\n",
              "      }\n",
              "      quickchartButtonEl.classList.remove('colab-df-spinner');\n",
              "      quickchartButtonEl.classList.add('colab-df-quickchart-complete');\n",
              "    }\n",
              "    (() => {\n",
              "      let quickchartButtonEl =\n",
              "        document.querySelector('#df-76044b16-c51d-48b8-8ae1-0926819a8336 button');\n",
              "      quickchartButtonEl.style.display =\n",
              "        google.colab.kernel.accessAllowed ? 'block' : 'none';\n",
              "    })();\n",
              "  </script>\n",
              "</div>\n",
              "    </div>\n",
              "  </div>\n"
            ]
          },
          "metadata": {},
          "execution_count": 4
        }
      ],
      "source": [
        "df.tail(10)"
      ]
    },
    {
      "cell_type": "code",
      "execution_count": null,
      "id": "864af72a",
      "metadata": {
        "id": "864af72a",
        "outputId": "0961a4b7-2fee-49c2-fade-06b8fe55ac1c",
        "colab": {
          "base_uri": "https://localhost:8080/"
        }
      },
      "outputs": [
        {
          "output_type": "stream",
          "name": "stdout",
          "text": [
            "<class 'pandas.core.frame.DataFrame'>\n",
            "RangeIndex: 7973 entries, 0 to 7972\n",
            "Data columns (total 31 columns):\n",
            " #   Column  Non-Null Count  Dtype  \n",
            "---  ------  --------------  -----  \n",
            " 0   Time    7973 non-null   int64  \n",
            " 1   V1      7973 non-null   float64\n",
            " 2   V2      7973 non-null   float64\n",
            " 3   V3      7973 non-null   float64\n",
            " 4   V4      7973 non-null   float64\n",
            " 5   V5      7973 non-null   float64\n",
            " 6   V6      7973 non-null   float64\n",
            " 7   V7      7973 non-null   float64\n",
            " 8   V8      7973 non-null   float64\n",
            " 9   V9      7973 non-null   float64\n",
            " 10  V10     7973 non-null   float64\n",
            " 11  V11     7973 non-null   float64\n",
            " 12  V12     7973 non-null   float64\n",
            " 13  V13     7973 non-null   float64\n",
            " 14  V14     7973 non-null   float64\n",
            " 15  V15     7972 non-null   float64\n",
            " 16  V16     7972 non-null   float64\n",
            " 17  V17     7972 non-null   float64\n",
            " 18  V18     7972 non-null   float64\n",
            " 19  V19     7972 non-null   float64\n",
            " 20  V20     7972 non-null   float64\n",
            " 21  V21     7972 non-null   float64\n",
            " 22  V22     7972 non-null   float64\n",
            " 23  V23     7972 non-null   float64\n",
            " 24  V24     7972 non-null   float64\n",
            " 25  V25     7972 non-null   float64\n",
            " 26  V26     7972 non-null   float64\n",
            " 27  V27     7972 non-null   float64\n",
            " 28  V28     7972 non-null   float64\n",
            " 29  Amount  7972 non-null   float64\n",
            " 30  Class   7972 non-null   float64\n",
            "dtypes: float64(30), int64(1)\n",
            "memory usage: 1.9 MB\n"
          ]
        }
      ],
      "source": [
        "df.info()"
      ]
    },
    {
      "cell_type": "code",
      "execution_count": null,
      "id": "70d39129",
      "metadata": {
        "id": "70d39129",
        "outputId": "ccff1fc6-deb1-42db-e335-1711e2f1217b",
        "colab": {
          "base_uri": "https://localhost:8080/"
        }
      },
      "outputs": [
        {
          "output_type": "execute_result",
          "data": {
            "text/plain": [
              "0.0    7947\n",
              "1.0      25\n",
              "Name: Class, dtype: int64"
            ]
          },
          "metadata": {},
          "execution_count": 6
        }
      ],
      "source": [
        "df[\"Class\"].value_counts()"
      ]
    },
    {
      "cell_type": "code",
      "execution_count": null,
      "id": "27466dbb",
      "metadata": {
        "id": "27466dbb",
        "outputId": "83fbf846-a681-452f-9c24-af2ea75a4073",
        "colab": {
          "base_uri": "https://localhost:8080/"
        }
      },
      "outputs": [
        {
          "output_type": "stream",
          "name": "stdout",
          "text": [
            "Fraud transaction cases 25\n",
            "Valid transaction cases 7947\n"
          ]
        }
      ],
      "source": [
        "fraud = df[df[\"Class\"]==1]\n",
        "valid = df[df[\"Class\"]==0]\n",
        "\n",
        "print(\"Fraud transaction cases {}\".format(len(fraud)))\n",
        "print(\"Valid transaction cases {}\".format(len(valid)))"
      ]
    },
    {
      "cell_type": "code",
      "execution_count": null,
      "id": "b5c1c204",
      "metadata": {
        "scrolled": true,
        "id": "b5c1c204",
        "outputId": "adb1a8d9-83bc-4d25-ab27-0ba49da397ee",
        "colab": {
          "base_uri": "https://localhost:8080/"
        }
      },
      "outputs": [
        {
          "output_type": "stream",
          "name": "stdout",
          "text": [
            "Amount details of fraud transaction\n"
          ]
        },
        {
          "output_type": "execute_result",
          "data": {
            "text/plain": [
              "count      25.000000\n",
              "mean      106.308400\n",
              "std       372.676883\n",
              "min         0.000000\n",
              "25%         1.000000\n",
              "50%         1.000000\n",
              "75%         1.000000\n",
              "max      1809.680000\n",
              "Name: Amount, dtype: float64"
            ]
          },
          "metadata": {},
          "execution_count": 8
        }
      ],
      "source": [
        "print(\"Amount details of fraud transaction\")\n",
        "fraud.Amount.describe()"
      ]
    },
    {
      "cell_type": "code",
      "execution_count": null,
      "id": "96c9b7e4",
      "metadata": {
        "id": "96c9b7e4",
        "outputId": "029a4c8c-9085-4935-cda8-3a8b51db3836",
        "colab": {
          "base_uri": "https://localhost:8080/"
        }
      },
      "outputs": [
        {
          "output_type": "stream",
          "name": "stdout",
          "text": [
            "Amount details of valid transaction\n"
          ]
        },
        {
          "output_type": "execute_result",
          "data": {
            "text/plain": [
              "count    7947.000000\n",
              "mean       65.284891\n",
              "std       194.126547\n",
              "min         0.000000\n",
              "25%         4.795000\n",
              "50%        15.950000\n",
              "75%        54.990000\n",
              "max      7712.430000\n",
              "Name: Amount, dtype: float64"
            ]
          },
          "metadata": {},
          "execution_count": 9
        }
      ],
      "source": [
        "print(\"Amount details of valid transaction\")\n",
        "valid.Amount.describe()"
      ]
    },
    {
      "cell_type": "markdown",
      "id": "612a8d91",
      "metadata": {
        "id": "612a8d91"
      },
      "source": [
        "Correlation Matrix\n"
      ]
    },
    {
      "cell_type": "code",
      "execution_count": null,
      "id": "10101933",
      "metadata": {
        "id": "10101933",
        "outputId": "0d38f687-2835-4f3f-82da-87664b0df175",
        "colab": {
          "base_uri": "https://localhost:8080/",
          "height": 799
        }
      },
      "outputs": [
        {
          "output_type": "display_data",
          "data": {
            "text/plain": [
              "<Figure size 1200x900 with 2 Axes>"
            ],
            "image/png": "[encoded data removed]"
          },
          "metadata": {}
        }
      ],
      "source": [
        "cor = df.corr()\n",
        "fig = plt.figure(figsize = (12,9))\n",
        "sns.heatmap(cor,vmax=.8 ,square = True)\n",
        "plt.show()"
      ]
    },
    {
      "cell_type": "markdown",
      "id": "5063d6f2",
      "metadata": {
        "id": "5063d6f2"
      },
      "source": []
    },
    {
      "cell_type": "markdown",
      "id": "170e770e",
      "metadata": {
        "id": "170e770e"
      },
      "source": [
        "### Separating the X and the Y values\n"
      ]
    },
    {
      "cell_type": "code",
      "execution_count": null,
      "id": "8cdeb907",
      "metadata": {
        "id": "8cdeb907",
        "outputId": "0dababbc-be24-49c4-ea47-b14388e87074",
        "colab": {
          "base_uri": "https://localhost:8080/"
        }
      },
      "outputs": [
        {
          "output_type": "stream",
          "name": "stdout",
          "text": [
            "(7973, 30)\n",
            "(7973,)\n"
          ]
        }
      ],
      "source": [
        "# dividing the X and the Y from the dataset\n",
        "X = df.drop(['Class'], axis = 1)\n",
        "Y = df[\"Class\"]\n",
        "print(X.shape)\n",
        "print(Y.shape)\n",
        "# getting just the values for the sake of processing\n",
        "# (its a numpy array with no columns)\n",
        "xData = X.values\n",
        "yData = Y.values"
      ]
    },
    {
      "cell_type": "markdown",
      "id": "97807353",
      "metadata": {
        "id": "97807353"
      },
      "source": [
        "### Training and Testing Data Bifurcation\n"
      ]
    },
    {
      "cell_type": "code",
      "execution_count": null,
      "id": "f410a285",
      "metadata": {
        "id": "f410a285"
      },
      "outputs": [],
      "source": [
        "from sklearn.model_selection import train_test_split"
      ]
    },
    {
      "cell_type": "code",
      "execution_count": null,
      "id": "21db1cc7",
      "metadata": {
        "id": "21db1cc7"
      },
      "outputs": [],
      "source": [
        "X_train,X_test,y_train,y_test = train_test_split(xData,yData, test_size = 0.3 , random_state = 42)"
      ]
    },
    {
      "cell_type": "markdown",
      "id": "be94d21f",
      "metadata": {
        "id": "be94d21f"
      },
      "source": [
        "### Building a Random Forest Model using scikit learn"
      ]
    }
  ],
  "metadata": {
    "kernelspec": {
      "display_name": "Python 3 (ipykernel)",
      "language": "python",
      "name": "python3"
    },
    "language_info": {
      "codemirror_mode": {
        "name": "ipython",
        "version": 3
      },
      "file_extension": ".py",
      "mimetype": "text/x-python",
      "name": "python",
      "nbconvert_exporter": "python",
      "pygments_lexer": "ipython3",
      "version": "3.9.13"
    },
    "colab": {
      "provenance": []
    }
  },
  "nbformat": 4,
  "nbformat_minor": 5
}
